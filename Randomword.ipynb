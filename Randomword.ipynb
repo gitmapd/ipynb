{
 "cells": [
  {
   "cell_type": "code",
   "execution_count": 5,
   "id": "59ae6e0a",
   "metadata": {},
   "outputs": [],
   "source": [
    "import random\n",
    "\n"
   ]
  },
  {
   "cell_type": "code",
   "execution_count": 10,
   "id": "993dae54",
   "metadata": {},
   "outputs": [
    {
     "name": "stdout",
     "output_type": "stream",
     "text": [
      "mover\n"
     ]
    }
   ],
   "source": [
    "f=open(\"sgb-words.txt\",\"r\")\n",
    "file=f.read()\n",
    "words=list(map(str,file.split()))\n",
    "print(random.choice(words))"
   ]
  },
  {
   "cell_type": "code",
   "execution_count": 11,
   "id": "edca2e47",
   "metadata": {},
   "outputs": [],
   "source": [
    "import re"
   ]
  },
  {
   "cell_type": "code",
   "execution_count": 14,
   "id": "f3a34a51",
   "metadata": {},
   "outputs": [],
   "source": [
    "r=re.compile(\"ju\")\n",
    "ff=list(filter(r.match,words))"
   ]
  },
  {
   "cell_type": "code",
   "execution_count": 15,
   "id": "7494566c",
   "metadata": {},
   "outputs": [
    {
     "name": "stdout",
     "output_type": "stream",
     "text": [
      "judge\n",
      "juice\n",
      "jumps\n",
      "juicy\n",
      "jumpy\n",
      "junks\n",
      "juror\n",
      "jumbo\n",
      "junky\n",
      "jutes\n",
      "judos\n",
      "junta\n",
      "julep\n",
      "juste\n",
      "junco\n",
      "jujus\n",
      "jukes\n"
     ]
    }
   ],
   "source": [
    "for i in ff:\n",
    "    print(i)"
   ]
  },
  {
   "cell_type": "code",
   "execution_count": 17,
   "id": "544df7fa",
   "metadata": {},
   "outputs": [
    {
     "name": "stdout",
     "output_type": "stream",
     "text": [
      "https://drive.google.com/file/d/1WjyBpdi8EucypCxUUh80htWeZzEq67NI/view?usp=sharing\n",
      "https://drive.google.com/file/d/1BSRvDYGkvPs3GyYDypa78bGX0UWXA2Qk/view?usp=sharing\n",
      "https://drive.google.com/file/d/1dGGL7iLfu3Oj88bI7LS5FtlojKAmh3uD/view?usp=sharing\n",
      "https://drive.google.com/file/d/1qI_oIxdjgGmSQ3PMMY4g0d676EykZVMa/view?usp=sharing\n",
      "https://drive.google.com/file/d/13n_LnhLolpuxDAebA4o5NhKWJ30zrHZK/view?usp=sharing\n",
      "https://drive.google.com/file/d/1lZFzgsz6Vd506aAgZr-8g9NZN-0nX69U/view?usp=sharing\n",
      "https://drive.google.com/file/d/1Al2jGteSGhWhJevUs2u-KvSGB9mQOjzn/view?usp=sharing\n",
      "https://drive.google.com/file/d/1Dx0xkt2cuYgyr88B55DLLzoMIzqXzZGE/view?usp=sharing\n",
      "https://drive.google.com/file/d/1oUg5aouhyABujvgN7QnrcfymSrwclYEq/view?usp=sharing\n",
      "https://drive.google.com/file/d/18AmClzf2Nqs3XQHxrQour4tcnViv4Ej2/view?usp=sharing\n",
      "https://drive.google.com/file/d/1gj7Un8APbsQaTx24esQEm-RRdPz-OQJi/view?usp=sharing\n",
      "https://drive.google.com/file/d/1-YZ254JTdOQ5EWxkN01amrL1bAz689-Z/view?usp=sharing\n",
      "https://drive.google.com/file/d/1-o9c3vkI230LZacDgCdCqCzyN1Za88k_/view?usp=sharing\n",
      "https://drive.google.com/file/d/19iC7e8nhrdYzglLsgzVYNler2MJkxDmL/view?usp=sharing\n"
     ]
    }
   ],
   "source": [
    "scrape(site)"
   ]
  },
  {
   "cell_type": "code",
   "execution_count": null,
   "id": "9179d5e4",
   "metadata": {},
   "outputs": [],
   "source": []
  }
 ],
 "metadata": {
  "kernelspec": {
   "display_name": "Python 3 (ipykernel)",
   "language": "python",
   "name": "python3"
  },
  "language_info": {
   "codemirror_mode": {
    "name": "ipython",
    "version": 3
   },
   "file_extension": ".py",
   "mimetype": "text/x-python",
   "name": "python",
   "nbconvert_exporter": "python",
   "pygments_lexer": "ipython3",
   "version": "3.9.7"
  }
 },
 "nbformat": 4,
 "nbformat_minor": 5
}
