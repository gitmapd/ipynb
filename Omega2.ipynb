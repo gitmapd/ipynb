{
 "cells": [
  {
   "cell_type": "code",
   "execution_count": 13,
   "id": "2bfbd937",
   "metadata": {},
   "outputs": [],
   "source": [
    "import requests\n",
    "import os\n",
    "from bs4 import BeautifulSoup\n",
    "import gdown\n",
    "from pathlib import Path"
   ]
  },
  {
   "cell_type": "code",
   "execution_count": 29,
   "id": "d2d28c7c",
   "metadata": {},
   "outputs": [],
   "source": [
    "site=\"https://omega1239.webnode.pt/a2018-2019/\"\n",
    "parts=site.split(\"/\")[-2]\n",
    "path=Path(f'/home/m/{parts}')\n",
    "curdir=os.getcwd()"
   ]
  },
  {
   "cell_type": "code",
   "execution_count": 30,
   "id": "a026397d",
   "metadata": {},
   "outputs": [],
   "source": [
    "urls=[]\n",
    "path=Path(f'{os.getcwd()}/Omega/{parts}')\n",
    "def scrape(site,path):\n",
    "    if not os.path.exists(path):\n",
    "        os.mkdir(path)\n",
    "    r=requests.get(site)\n",
    "    s=BeautifulSoup(r.text,\"html.parser\")\n",
    "    for href in s.find_all(\"a\"):\n",
    "        hrefs=href.get(\"href\")\n",
    "        text=href.text\n",
    "        if hrefs is not None and hrefs.startswith(\"https://drive.\"):\n",
    "            a={'ids':hrefs,'names':text}\n",
    "            urls.append(a)\n",
    "    return urls\n",
    "def downloader(urls):\n",
    "    for i in urls:\n",
    "        urls=i['ids']\n",
    "        names=i['names']\n",
    "        output=f\"{path}/{names}.pdf\"\n",
    "        gdown.download(url=urls,output=output, quiet=False, fuzzy=True)"
   ]
  },
  {
   "cell_type": "code",
   "execution_count": null,
   "id": "3c6573cd",
   "metadata": {},
   "outputs": [],
   "source": []
  }
 ],
 "metadata": {
  "kernelspec": {
   "display_name": "Python 3 (ipykernel)",
   "language": "python",
   "name": "python3"
  },
  "language_info": {
   "codemirror_mode": {
    "name": "ipython",
    "version": 3
   },
   "file_extension": ".py",
   "mimetype": "text/x-python",
   "name": "python",
   "nbconvert_exporter": "python",
   "pygments_lexer": "ipython3",
   "version": "3.9.12"
  }
 },
 "nbformat": 4,
 "nbformat_minor": 5
}
