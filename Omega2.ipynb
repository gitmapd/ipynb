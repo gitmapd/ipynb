{
 "cells": [
  {
   "cell_type": "code",
   "execution_count": 1,
   "id": "9f7dcd65",
   "metadata": {},
   "outputs": [],
   "source": [
    "import requests\n",
    "from bs4 import BeautifulSoup\n",
    "import gdown"
   ]
  },
  {
   "cell_type": "code",
   "execution_count": 13,
   "id": "7a4cb87b",
   "metadata": {},
   "outputs": [],
   "source": [
    "site=\"https://omega1239.webnode.pt/a2019-20202/\""
   ]
  },
  {
   "cell_type": "code",
   "execution_count": 14,
   "id": "2fcfa9ab",
   "metadata": {},
   "outputs": [],
   "source": [
    "def scrape(site):\n",
    "    r=requests.get(site)\n",
    "    s=BeautifulSoup(r.text,\"html.parser\")\n",
    "    for href in s.find_all(\"a\"):\n",
    "        if href.get(\"href\").startswith(\"https://drive.\"):\n",
    "            print(href.get(\"href\"))"
   ]
  },
  {
   "cell_type": "code",
   "execution_count": 15,
   "id": "474b2dc0",
   "metadata": {},
   "outputs": [
    {
     "name": "stdout",
     "output_type": "stream",
     "text": [
      "https://drive.google.com/file/d/16B0b46PK4__P_xFAM4-ePzmxRycKz33K/view?usp=sharing\n",
      "https://drive.google.com/file/d/1OOFXsHvAPsv_yL1wh-l0n3gB8lHfv0zo/view?usp=sharing\n",
      "https://drive.google.com/file/d/1Qb2sHt_IaRNeRC9wnyShEOVh0Ol5X_Qj/view?usp=sharing\n",
      "https://drive.google.com/file/d/1XysKtQMJZatDfzV5yaMq9ghciaEDvxJe/view?usp=sharing\n",
      "https://drive.google.com/file/d/1GAckQxt85F3jTeq7COPRwQa77LI8s0vI/view?usp=sharing\n",
      "https://drive.google.com/file/d/1fl8bQ0DUdalzKBmPzjLghB_0SpMbIwM6/view?usp=sharing\n",
      "https://drive.google.com/file/d/1ehg6mWj1U8SaEcX3PoDAnqctNrgx05ho/view?usp=sharing\n",
      "https://drive.google.com/file/d/151qczDQLCVrhRnGe8HYab8d5inizUS4V/view?usp=sharing\n",
      "https://drive.google.com/file/d/1OEVu8eoTPKW_s6F0ppRJLHGhhLorafQ0/view?usp=sharing\n",
      "https://drive.google.com/file/d/1mr_b7Xfl4w4mB9p7bblTvoWFpRmi7Brn/view?usp=sharing\n",
      "https://drive.google.com/file/d/1MU6z7nEbLiPVtY4zzR0WentKhfvy__oh/view?usp=sharing\n",
      "https://drive.google.com/file/d/1P-5qZaQCRygM-bHVEtzuS2EhlF-pNMSw/view?usp=sharing\n",
      "https://drive.google.com/file/d/1Np0xfuSz8XXx0QVFexixVMN69JGcoUc0/view?usp=sharing\n",
      "https://drive.google.com/file/d/110rjNf0cKmp4g2-u0gfjDwMqwDvwdFXf/view?usp=sharing\n",
      "https://drive.google.com/file/d/1Ezsx03KfKsMovAZ2owXoSfCdogPYSJqT/view?usp=sharing\n",
      "https://drive.google.com/file/d/1VmFFnqnkcSZHnrVfNiFqT-kY1dn8aNgY/view?usp=sharing\n",
      "https://drive.google.com/file/d/1AaAuMqI4MqiaQvWanhTfJsHrb_DiM82Y/view?usp=sharing\n",
      "https://drive.google.com/file/d/1hEOPDCJ0rj8glbRIlpzLZhLx47COrFjO/view?usp=sharing\n",
      "https://drive.google.com/file/d/1ZPoUrR8r2I-QOo6NgRgXkRe4gemDUY0e/view?usp=sharing\n",
      "https://drive.google.com/file/d/1-trzIGDe2dzxqkY3UjFrlaBsUFKxyGls/view?usp=sharing\n",
      "https://drive.google.com/file/d/1R5yaAHb_DuCGCthCXr3ltCmCdxK-BITB/view?usp=sharing\n",
      "https://drive.google.com/file/d/1xrZkxlQbuKmS0srwTqZYLUHUWpEmSA1m/view?usp=sharing\n",
      "https://drive.google.com/file/d/1T2VAG0FDv-asgokbNpQ0pmm6IDMJ6Gwe/view?usp=sharing\n",
      "https://drive.google.com/file/d/1PS7pTVM-nCwXB4h2BCiCu69nyl7qw4Yt/view?usp=sharing\n",
      "https://drive.google.com/file/d/1T3CflJa7mL4o8mEFT_YqHuhsnS7qLRws/view?usp=sharing\n",
      "https://drive.google.com/file/d/1ouCjE_e9T93Hbwx28L4P6x-SR3TJENFa/view?usp=sharing\n",
      "https://drive.google.com/file/d/14aA5DFSpgOAEQxt-6nRtBz_qnD0VupBA/view?usp=sharing\n",
      "https://drive.google.com/file/d/1qnJZwO2pIhzpABwFdVimuhTFt0HEOkP5/view?usp=sharing\n",
      "https://drive.google.com/file/d/1M5TY64CYkzcIaJe3nn93O6la-5KsV5O-/view?usp=sharing\n",
      "https://drive.google.com/file/d/1W6iUyvryBo4XGea-bOKuLgtUpRHow2nu/view?usp=sharing\n",
      "https://drive.google.com/file/d/1B9AbQAQgZoYLv14OHtDg7U74GltYyaoo/view?usp=sharing\n"
     ]
    }
   ],
   "source": [
    "scrape(site)"
   ]
  },
  {
   "cell_type": "code",
   "execution_count": null,
   "id": "1090f84f",
   "metadata": {},
   "outputs": [],
   "source": []
  }
 ],
 "metadata": {
  "kernelspec": {
   "display_name": "Python 3 (ipykernel)",
   "language": "python",
   "name": "python3"
  },
  "language_info": {
   "codemirror_mode": {
    "name": "ipython",
    "version": 3
   },
   "file_extension": ".py",
   "mimetype": "text/x-python",
   "name": "python",
   "nbconvert_exporter": "python",
   "pygments_lexer": "ipython3",
   "version": "3.9.7"
  }
 },
 "nbformat": 4,
 "nbformat_minor": 5
}
