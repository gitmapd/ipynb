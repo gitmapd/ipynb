#include <iostream>
using namespace std;
 
   int main()
   {
    cout<<"life is lonly";
    return 0;
    }
